{
 "cells": [
  {
   "cell_type": "code",
   "execution_count": 1,
   "id": "1c3bbfc0",
   "metadata": {},
   "outputs": [],
   "source": [
    "# Analisis exploratorio del conjunto de datos\n",
    
    "import pandas as pd\n",
    "import numpy as np\n",
    "import matplotlib.pyplot as plt\n",
    "import statsmodels.api as sm "
   ]
  },
  {
   "cell_type": "code",
   "execution_count": 2,
   "id": "06c5e8b7",
   "metadata": {},
   "outputs": [
    {
     "name": "stdout",
     "output_type": "stream",
     "text": [
      "  fecha_vacuna    zona   provincia    sexo              edad       nom_vacuna  \\\n",
      "0    21/1/2021  ZONA 3  CHIMBORAZO   Mujer   De 25 a 49 años  BNT162b2 PFIZER   \n",
      "1    21/1/2021  ZONA 3  TUNGURAHUA  Hombre   De 70 a 79 años  BNT162b2 PFIZER   \n",
      "2    21/1/2021  ZONA 3  TUNGURAHUA  Hombre  De 80 años y más  BNT162b2 PFIZER   \n",
      "3    21/1/2021  ZONA 3  TUNGURAHUA   Mujer   De 60 a 69 años  BNT162b2 PFIZER   \n",
      "4    21/1/2021  ZONA 3  TUNGURAHUA   Mujer   De 70 a 79 años  BNT162b2 PFIZER   \n",
      "5    21/1/2021  ZONA 3  TUNGURAHUA   Mujer  De 80 años y más  BNT162b2 PFIZER   \n",
      "6    21/1/2021  ZONA 3  TUNGURAHUA  Hombre   De 25 a 49 años  BNT162b2 PFIZER   \n",
      "7    21/1/2021  ZONA 3  TUNGURAHUA  Hombre   De 60 a 69 años  BNT162b2 PFIZER   \n",
      "\n",
      "   primera  segunda  \n",
      "0        1        0  \n",
      "1        1        0  \n",
      "2        4        0  \n",
      "3        1        0  \n",
      "4        3        0  \n",
      "5        3        0  \n",
      "6        1        0  \n",
      "7        1        0  \n"
     ]
    }
   ],
   "source": [
    "#Carga de archivo csv desde una URL\n",
    "url = 'https://raw.githubusercontent.com/crisvel23/analisis_exploratorio_datos/master/analisis/MSP_VACUNA_COVID_2021.csv'\n",
    "df = pd.read_csv(url, encoding='latin-1', sep=\";\") #index_col=0\n",
    "print(df.head(8)) "
   ]
  },
  {
   "cell_type": "code",
   "execution_count": 3,
   "id": "50bb3260",
   "metadata": {},
   "outputs": [
    {
     "name": "stdout",
     "output_type": "stream",
     "text": [
      "Cantidad de Filas y columnas: (233764, 8)\n",
      "Nombre columnas: Index(['fecha_vacuna', 'zona', 'provincia', 'sexo', 'edad', 'nom_vacuna',\n",
      "       'primera', 'segunda'],\n",
      "      dtype='object')\n"
     ]
    }
   ],
   "source": [
    "#Conocer información básica\n",
    "print('Cantidad de Filas y columnas:',df.shape)\n",
    "print('Nombre columnas:',df.columns) "
   ]
  },
  {
   "cell_type": "code",
   "execution_count": 4,
   "id": "e35e1adf",
   "metadata": {},
   "outputs": [
    {
     "name": "stdout",
     "output_type": "stream",
     "text": [
      "<class 'pandas.core.frame.DataFrame'>\n",
      "RangeIndex: 233764 entries, 0 to 233763\n",
      "Data columns (total 8 columns):\n",
      " #   Column        Non-Null Count   Dtype \n",
      "---  ------        --------------   ----- \n",
      " 0   fecha_vacuna  233764 non-null  object\n",
      " 1   zona          233764 non-null  object\n",
      " 2   provincia     233764 non-null  object\n",
      " 3   sexo          233764 non-null  object\n",
      " 4   edad          233764 non-null  object\n",
      " 5   nom_vacuna    233764 non-null  object\n",
      " 6   primera       233764 non-null  int64 \n",
      " 7   segunda       233764 non-null  int64 \n",
      "dtypes: int64(2), object(6)\n",
      "memory usage: 14.3+ MB\n"
     ]
    }
   ],
   "source": [
    "#Columnas, nulos y tipo de datos\n",
    "df.info() "
   ]
  },
  {
   "cell_type": "code",
   "execution_count": 5,
   "id": "1a38c3b7",
   "metadata": {},
   "outputs": [
    {
     "data": {
      "text/html": [
       "<div>\n",
       "<style scoped>\n",
       "    .dataframe tbody tr th:only-of-type {\n",
       "        vertical-align: middle;\n",
       "    }\n",
       "\n",
       "    .dataframe tbody tr th {\n",
       "        vertical-align: top;\n",
       "    }\n",
       "\n",
       "    .dataframe thead th {\n",
       "        text-align: right;\n",
       "    }\n",
       "</style>\n",
       "<table border=\"1\" class=\"dataframe\">\n",
       "  <thead>\n",
       "    <tr style=\"text-align: right;\">\n",
       "      <th></th>\n",
       "      <th>primera</th>\n",
       "      <th>segunda</th>\n",
       "    </tr>\n",
       "  </thead>\n",
       "  <tbody>\n",
       "    <tr>\n",
       "      <th>count</th>\n",
       "      <td>233764.000000</td>\n",
       "      <td>233764.000000</td>\n",
       "    </tr>\n",
       "    <tr>\n",
       "      <th>mean</th>\n",
       "      <td>12.495632</td>\n",
       "      <td>6.194145</td>\n",
       "    </tr>\n",
       "    <tr>\n",
       "      <th>std</th>\n",
       "      <td>66.432233</td>\n",
       "      <td>36.253294</td>\n",
       "    </tr>\n",
       "    <tr>\n",
       "      <th>min</th>\n",
       "      <td>0.000000</td>\n",
       "      <td>0.000000</td>\n",
       "    </tr>\n",
       "    <tr>\n",
       "      <th>25%</th>\n",
       "      <td>0.000000</td>\n",
       "      <td>0.000000</td>\n",
       "    </tr>\n",
       "    <tr>\n",
       "      <th>50%</th>\n",
       "      <td>1.000000</td>\n",
       "      <td>0.000000</td>\n",
       "    </tr>\n",
       "    <tr>\n",
       "      <th>75%</th>\n",
       "      <td>7.000000</td>\n",
       "      <td>2.000000</td>\n",
       "    </tr>\n",
       "    <tr>\n",
       "      <th>max</th>\n",
       "      <td>3461.000000</td>\n",
       "      <td>4322.000000</td>\n",
       "    </tr>\n",
       "  </tbody>\n",
       "</table>\n",
       "</div>"
      ],
      "text/plain": [
       "             primera        segunda\n",
       "count  233764.000000  233764.000000\n",
       "mean       12.495632       6.194145\n",
       "std        66.432233      36.253294\n",
       "min         0.000000       0.000000\n",
       "25%         0.000000       0.000000\n",
       "50%         1.000000       0.000000\n",
       "75%         7.000000       2.000000\n",
       "max      3461.000000    4322.000000"
      ]
     },
     "execution_count": 5,
     "metadata": {},
     "output_type": "execute_result"
    }
   ],
   "source": [
    "#Descripción estadística de los datos numéricos\n",
    "df.describe() "
   ]
  },
  {
   "cell_type": "code",
   "execution_count": 6,
   "id": "3eda9e55",
   "metadata": {},
   "outputs": [
    {
     "name": "stdout",
     "output_type": "stream",
     "text": [
      "      semana  provincia    sexo   nacionalidad    gedad   nom_vacuna  \\\n",
      "0  2021 - 03      AZUAY  Hombre  ECUATORIANO/A  12 - 17  ASTRAZENECA   \n",
      "1  2021 - 03      AZUAY  Hombre  ECUATORIANO/A  12 - 17  ASTRAZENECA   \n",
      "2  2021 - 03      AZUAY  Hombre  ECUATORIANO/A  12 - 17  ASTRAZENECA   \n",
      "3  2021 - 03      AZUAY  Hombre  ECUATORIANO/A  12 - 17  ASTRAZENECA   \n",
      "4  2021 - 03      AZUAY  Hombre  ECUATORIANO/A  12 - 17  ASTRAZENECA   \n",
      "5  2021 - 03      AZUAY  Hombre  ECUATORIANO/A  12 - 17  ASTRAZENECA   \n",
      "\n",
      "      dosis_aplicada                       grupo_riesgo   n   \n",
      "0  DOSIS DE REFUERZO  NO PERTENECE A UN GRUPO DE RIESGO    0  \n",
      "1  DOSIS DE REFUERZO     PERTENECE A UN GRUPO DE RIESGO    0  \n",
      "2      PRIMERA DOSIS  NO PERTENECE A UN GRUPO DE RIESGO    0  \n",
      "3      PRIMERA DOSIS     PERTENECE A UN GRUPO DE RIESGO    0  \n",
      "4      SEGUNDA DOSIS  NO PERTENECE A UN GRUPO DE RIESGO    0  \n",
      "5      SEGUNDA DOSIS     PERTENECE A UN GRUPO DE RIESGO    0  \n"
     ]
    }
   ],
   "source": [
    "#Cargar de una 2da fuente de datos: vacunacion_formato\n",
    "url = 'https://raw.githubusercontent.com/crisvel23/analisis_exploratorio_datos/master/analisis/vacunacion_formato.csv'\n",
    "df_pop = pd.read_csv(url, encoding='latin-1', sep=\",\")\n",
    "print(df_pop.head(6)) "
   ]
  },
  {
   "cell_type": "code",
   "execution_count": 7,
   "id": "00600200",
   "metadata": {},
   "outputs": [
    {
     "data": {
      "text/html": [
       "<div>\n",
       "<style scoped>\n",
       "    .dataframe tbody tr th:only-of-type {\n",
       "        vertical-align: middle;\n",
       "    }\n",
       "\n",
       "    .dataframe tbody tr th {\n",
       "        vertical-align: top;\n",
       "    }\n",
       "\n",
       "    .dataframe thead th {\n",
       "        text-align: right;\n",
       "    }\n",
       "</style>\n",
       "<table border=\"1\" class=\"dataframe\">\n",
       "  <thead>\n",
       "    <tr style=\"text-align: right;\">\n",
       "      <th></th>\n",
       "      <th>semana</th>\n",
       "      <th>provincia</th>\n",
       "      <th>sexo</th>\n",
       "      <th>nacionalidad</th>\n",
       "      <th>gedad</th>\n",
       "      <th>nom_vacuna</th>\n",
       "      <th>dosis_aplicada</th>\n",
       "      <th>grupo_riesgo</th>\n",
       "      <th>n</th>\n",
       "    </tr>\n",
       "  </thead>\n",
       "  <tbody>\n",
       "  </tbody>\n",
       "</table>\n",
       "</div>"
      ],
      "text/plain": [
       "Empty DataFrame\n",
       "Columns: [semana,  provincia,  sexo,  nacionalidad,  gedad,  nom_vacuna,  dosis_aplicada,  grupo_riesgo,  n ]\n",
       "Index: []"
      ]
     },
     "execution_count": 7,
     "metadata": {},
     "output_type": "execute_result"
    }
   ],
   "source": [
    "df_pop_es = df_pop[df_pop[\" nacionalidad\"] == ' Ecuatoriano/a' ]\n",
    "df_pop_es.head() "
   ]
  },
  {
   "cell_type": "code",
   "execution_count": 8,
   "id": "22f4a832",
   "metadata": {},
   "outputs": [
    {
     "data": {
      "text/plain": [
       "(0, 9)"
      ]
     },
     "execution_count": 8,
     "metadata": {},
     "output_type": "execute_result"
    }
   ],
   "source": [
    "df_pop_es.shape "
   ]
  },
  {
   "cell_type": "code",
   "execution_count": 9,
   "id": "d304415f",
   "metadata": {},
   "outputs": [
    {
     "data": {
      "text/html": [
       "<div>\n",
       "<style scoped>\n",
       "    .dataframe tbody tr th:only-of-type {\n",
       "        vertical-align: middle;\n",
       "    }\n",
       "\n",
       "    .dataframe tbody tr th {\n",
       "        vertical-align: top;\n",
       "    }\n",
       "\n",
       "    .dataframe thead th {\n",
       "        text-align: right;\n",
       "    }\n",
       "</style>\n",
       "<table border=\"1\" class=\"dataframe\">\n",
       "  <thead>\n",
       "    <tr style=\"text-align: right;\">\n",
       "      <th></th>\n",
       "      <th>semana</th>\n",
       "      <th>provincia</th>\n",
       "      <th>sexo</th>\n",
       "      <th>nacionalidad</th>\n",
       "      <th>gedad</th>\n",
       "      <th>nom_vacuna</th>\n",
       "      <th>dosis_aplicada</th>\n",
       "      <th>grupo_riesgo</th>\n",
       "      <th>n</th>\n",
       "    </tr>\n",
       "  </thead>\n",
       "  <tbody>\n",
       "    <tr>\n",
       "      <th>6912</th>\n",
       "      <td>2021 - 03</td>\n",
       "      <td>PICHINCHA</td>\n",
       "      <td>Hombre</td>\n",
       "      <td>ECUATORIANO/A</td>\n",
       "      <td>12 - 17</td>\n",
       "      <td>ASTRAZENECA</td>\n",
       "      <td>DOSIS DE REFUERZO</td>\n",
       "      <td>NO PERTENECE A UN GRUPO DE RIESGO</td>\n",
       "      <td>0</td>\n",
       "    </tr>\n",
       "    <tr>\n",
       "      <th>6913</th>\n",
       "      <td>2021 - 03</td>\n",
       "      <td>PICHINCHA</td>\n",
       "      <td>Hombre</td>\n",
       "      <td>ECUATORIANO/A</td>\n",
       "      <td>12 - 17</td>\n",
       "      <td>ASTRAZENECA</td>\n",
       "      <td>DOSIS DE REFUERZO</td>\n",
       "      <td>PERTENECE A UN GRUPO DE RIESGO</td>\n",
       "      <td>0</td>\n",
       "    </tr>\n",
       "    <tr>\n",
       "      <th>6914</th>\n",
       "      <td>2021 - 03</td>\n",
       "      <td>PICHINCHA</td>\n",
       "      <td>Hombre</td>\n",
       "      <td>ECUATORIANO/A</td>\n",
       "      <td>12 - 17</td>\n",
       "      <td>ASTRAZENECA</td>\n",
       "      <td>PRIMERA DOSIS</td>\n",
       "      <td>NO PERTENECE A UN GRUPO DE RIESGO</td>\n",
       "      <td>0</td>\n",
       "    </tr>\n",
       "    <tr>\n",
       "      <th>6915</th>\n",
       "      <td>2021 - 03</td>\n",
       "      <td>PICHINCHA</td>\n",
       "      <td>Hombre</td>\n",
       "      <td>ECUATORIANO/A</td>\n",
       "      <td>12 - 17</td>\n",
       "      <td>ASTRAZENECA</td>\n",
       "      <td>PRIMERA DOSIS</td>\n",
       "      <td>PERTENECE A UN GRUPO DE RIESGO</td>\n",
       "      <td>0</td>\n",
       "    </tr>\n",
       "    <tr>\n",
       "      <th>6916</th>\n",
       "      <td>2021 - 03</td>\n",
       "      <td>PICHINCHA</td>\n",
       "      <td>Hombre</td>\n",
       "      <td>ECUATORIANO/A</td>\n",
       "      <td>12 - 17</td>\n",
       "      <td>ASTRAZENECA</td>\n",
       "      <td>SEGUNDA DOSIS</td>\n",
       "      <td>NO PERTENECE A UN GRUPO DE RIESGO</td>\n",
       "      <td>0</td>\n",
       "    </tr>\n",
       "  </tbody>\n",
       "</table>\n",
       "</div>"
      ],
      "text/plain": [
       "         semana  provincia    sexo   nacionalidad    gedad   nom_vacuna  \\\n",
       "6912  2021 - 03  PICHINCHA  Hombre  ECUATORIANO/A  12 - 17  ASTRAZENECA   \n",
       "6913  2021 - 03  PICHINCHA  Hombre  ECUATORIANO/A  12 - 17  ASTRAZENECA   \n",
       "6914  2021 - 03  PICHINCHA  Hombre  ECUATORIANO/A  12 - 17  ASTRAZENECA   \n",
       "6915  2021 - 03  PICHINCHA  Hombre  ECUATORIANO/A  12 - 17  ASTRAZENECA   \n",
       "6916  2021 - 03  PICHINCHA  Hombre  ECUATORIANO/A  12 - 17  ASTRAZENECA   \n",
       "\n",
       "         dosis_aplicada                       grupo_riesgo   n   \n",
       "6912  DOSIS DE REFUERZO  NO PERTENECE A UN GRUPO DE RIESGO    0  \n",
       "6913  DOSIS DE REFUERZO     PERTENECE A UN GRUPO DE RIESGO    0  \n",
       "6914      PRIMERA DOSIS  NO PERTENECE A UN GRUPO DE RIESGO    0  \n",
       "6915      PRIMERA DOSIS     PERTENECE A UN GRUPO DE RIESGO    0  \n",
       "6916      SEGUNDA DOSIS  NO PERTENECE A UN GRUPO DE RIESGO    0  "
      ]
     },
     "execution_count": 9,
     "metadata": {},
     "output_type": "execute_result"
    }
   ],
   "source": [
    "df_pop_ar = df_pop[(df_pop[\" provincia\"] == 'PICHINCHA')]\n",
    "df_pop_ar.head() "
   ]
  },
  {
   "cell_type": "code",
   "execution_count": 10,
   "id": "2ddd7741",
   "metadata": {},
   "outputs": [
    {
     "data": {
      "text/plain": [
       "(19584, 9)"
      ]
     },
     "execution_count": 10,
     "metadata": {},
     "output_type": "execute_result"
    }
   ],
   "source": [
    "df_pop_ar.shape "
   ]
  },
  {
   "cell_type": "code",
   "execution_count": 11,
   "id": "d461eb9a",
   "metadata": {},
   "outputs": [
    {
     "data": {
      "text/plain": [
       "<AxesSubplot:xlabel=' gedad'>"
      ]
     },
     "execution_count": 11,
     "metadata": {},
     "output_type": "execute_result"
    },
    {
     "data": {
      "image/png": "[encoded data removed]",
      "text/plain": [
       "<Figure size 432x288 with 1 Axes>"
      ]
     },
     "metadata": {
      "needs_background": "light"
     },
     "output_type": "display_data"
    }
   ],
   "source": [
    "df_pop_ar.set_index(' gedad').plot(kind='bar') "
   ]
  },
  {
   "cell_type": "code",
   "execution_count": 12,
   "id": "c6748886",
   "metadata": {},
   "outputs": [
    {
     "name": "stdout",
     "output_type": "stream",
     "text": [
      "  fecha_vacuna    zona   provincia    sexo              edad       nom_vacuna  \\\n",
      "0    21/1/2021  ZONA 3  CHIMBORAZO   Mujer   De 25 a 49 años  BNT162b2 PFIZER   \n",
      "1    21/1/2021  ZONA 3  TUNGURAHUA  Hombre   De 70 a 79 años  BNT162b2 PFIZER   \n",
      "2    21/1/2021  ZONA 3  TUNGURAHUA  Hombre  De 80 años y más  BNT162b2 PFIZER   \n",
      "3    21/1/2021  ZONA 3  TUNGURAHUA   Mujer   De 60 a 69 años  BNT162b2 PFIZER   \n",
      "4    21/1/2021  ZONA 3  TUNGURAHUA   Mujer   De 70 a 79 años  BNT162b2 PFIZER   \n",
      "5    21/1/2021  ZONA 3  TUNGURAHUA   Mujer  De 80 años y más  BNT162b2 PFIZER   \n",
      "6    21/1/2021  ZONA 3  TUNGURAHUA  Hombre   De 25 a 49 años  BNT162b2 PFIZER   \n",
      "7    21/1/2021  ZONA 3  TUNGURAHUA  Hombre   De 60 a 69 años  BNT162b2 PFIZER   \n",
      "\n",
      "   primera  segunda  \n",
      "0        1        0  \n",
      "1        1        0  \n",
      "2        4        0  \n",
      "3        1        0  \n",
      "4        3        0  \n",
      "5        3        0  \n",
      "6        1        0  \n",
      "7        1        0  \n"
     ]
    }
   ],
   "source": [
    "#Carga del 1er archivo MSP_VACUNA_COVID_2021\n",
    "url = 'https://raw.githubusercontent.com/crisvel23/analisis_exploratorio_datos/master/analisis/MSP_VACUNA_COVID_2021.csv'\n",
    "df = pd.read_csv(url, encoding='latin-1', sep=\";\") #index_col=0\n",
    "print(df.head(8)) "
   ]
  },
  {
   "cell_type": "code",
   "execution_count": 15,
   "id": "51ad0c77",
   "metadata": {},
   "outputs": [
    {
     "data": {
      "text/html": [
       "<div>\n",
       "<style scoped>\n",
       "    .dataframe tbody tr th:only-of-type {\n",
       "        vertical-align: middle;\n",
       "    }\n",
       "\n",
       "    .dataframe tbody tr th {\n",
       "        vertical-align: top;\n",
       "    }\n",
       "\n",
       "    .dataframe thead th {\n",
       "        text-align: right;\n",
       "    }\n",
       "</style>\n",
       "<table border=\"1\" class=\"dataframe\">\n",
       "  <thead>\n",
       "    <tr style=\"text-align: right;\">\n",
       "      <th></th>\n",
       "      <th>fecha_vacuna</th>\n",
       "      <th>zona</th>\n",
       "      <th>provincia</th>\n",
       "      <th>sexo</th>\n",
       "      <th>edad</th>\n",
       "      <th>nom_vacuna</th>\n",
       "      <th>primera</th>\n",
       "      <th>segunda</th>\n",
       "    </tr>\n",
       "  </thead>\n",
       "  <tbody>\n",
       "    <tr>\n",
       "      <th>40</th>\n",
       "      <td>21/1/2021</td>\n",
       "      <td>ZONA 9</td>\n",
       "      <td>PICHINCHA</td>\n",
       "      <td>Hombre</td>\n",
       "      <td>De 25 a 49 años</td>\n",
       "      <td>BNT162b2 PFIZER</td>\n",
       "      <td>1</td>\n",
       "      <td>0</td>\n",
       "    </tr>\n",
       "    <tr>\n",
       "      <th>41</th>\n",
       "      <td>21/1/2021</td>\n",
       "      <td>ZONA 9</td>\n",
       "      <td>PICHINCHA</td>\n",
       "      <td>Mujer</td>\n",
       "      <td>De 25 a 49 años</td>\n",
       "      <td>BNT162b2 PFIZER</td>\n",
       "      <td>1</td>\n",
       "      <td>0</td>\n",
       "    </tr>\n",
       "    <tr>\n",
       "      <th>42</th>\n",
       "      <td>21/1/2021</td>\n",
       "      <td>ZONA 9</td>\n",
       "      <td>PICHINCHA</td>\n",
       "      <td>Hombre</td>\n",
       "      <td>De 25 a 49 años</td>\n",
       "      <td>BNT162b2 PFIZER</td>\n",
       "      <td>1</td>\n",
       "      <td>0</td>\n",
       "    </tr>\n",
       "    <tr>\n",
       "      <th>43</th>\n",
       "      <td>21/1/2021</td>\n",
       "      <td>ZONA 9</td>\n",
       "      <td>PICHINCHA</td>\n",
       "      <td>Hombre</td>\n",
       "      <td>De 50 a 59 años</td>\n",
       "      <td>BNT162b2 PFIZER</td>\n",
       "      <td>1</td>\n",
       "      <td>0</td>\n",
       "    </tr>\n",
       "    <tr>\n",
       "      <th>44</th>\n",
       "      <td>21/1/2021</td>\n",
       "      <td>ZONA 9</td>\n",
       "      <td>PICHINCHA</td>\n",
       "      <td>Hombre</td>\n",
       "      <td>De 25 a 49 años</td>\n",
       "      <td>BNT162b2 PFIZER</td>\n",
       "      <td>51</td>\n",
       "      <td>0</td>\n",
       "    </tr>\n",
       "    <tr>\n",
       "      <th>...</th>\n",
       "      <td>...</td>\n",
       "      <td>...</td>\n",
       "      <td>...</td>\n",
       "      <td>...</td>\n",
       "      <td>...</td>\n",
       "      <td>...</td>\n",
       "      <td>...</td>\n",
       "      <td>...</td>\n",
       "    </tr>\n",
       "    <tr>\n",
       "      <th>233759</th>\n",
       "      <td>30/6/2021</td>\n",
       "      <td>ZONA 9</td>\n",
       "      <td>PICHINCHA</td>\n",
       "      <td>Mujer</td>\n",
       "      <td>De 50 a 59 años</td>\n",
       "      <td>CoronaVac SINOVAC</td>\n",
       "      <td>22</td>\n",
       "      <td>4</td>\n",
       "    </tr>\n",
       "    <tr>\n",
       "      <th>233760</th>\n",
       "      <td>30/6/2021</td>\n",
       "      <td>ZONA 9</td>\n",
       "      <td>PICHINCHA</td>\n",
       "      <td>Mujer</td>\n",
       "      <td>De 60 a 69 años</td>\n",
       "      <td>BNT162b2 PFIZER</td>\n",
       "      <td>2</td>\n",
       "      <td>1</td>\n",
       "    </tr>\n",
       "    <tr>\n",
       "      <th>233761</th>\n",
       "      <td>30/6/2021</td>\n",
       "      <td>ZONA 9</td>\n",
       "      <td>PICHINCHA</td>\n",
       "      <td>Mujer</td>\n",
       "      <td>De 60 a 69 años</td>\n",
       "      <td>CoronaVac SINOVAC</td>\n",
       "      <td>10</td>\n",
       "      <td>2</td>\n",
       "    </tr>\n",
       "    <tr>\n",
       "      <th>233762</th>\n",
       "      <td>30/6/2021</td>\n",
       "      <td>ZONA 9</td>\n",
       "      <td>PICHINCHA</td>\n",
       "      <td>Mujer</td>\n",
       "      <td>De 70 a 79 años</td>\n",
       "      <td>CoronaVac SINOVAC</td>\n",
       "      <td>1</td>\n",
       "      <td>0</td>\n",
       "    </tr>\n",
       "    <tr>\n",
       "      <th>233763</th>\n",
       "      <td>30/6/2021</td>\n",
       "      <td>ZONA 9</td>\n",
       "      <td>PICHINCHA</td>\n",
       "      <td>Hombre</td>\n",
       "      <td>De 70 a 79 años</td>\n",
       "      <td>CoronaVac SINOVAC</td>\n",
       "      <td>1</td>\n",
       "      <td>0</td>\n",
       "    </tr>\n",
       "  </tbody>\n",
       "</table>\n",
       "<p>19190 rows × 8 columns</p>\n",
       "</div>"
      ],
      "text/plain": [
       "       fecha_vacuna    zona  provincia    sexo             edad  \\\n",
       "40        21/1/2021  ZONA 9  PICHINCHA  Hombre  De 25 a 49 años   \n",
       "41        21/1/2021  ZONA 9  PICHINCHA   Mujer  De 25 a 49 años   \n",
       "42        21/1/2021  ZONA 9  PICHINCHA  Hombre  De 25 a 49 años   \n",
       "43        21/1/2021  ZONA 9  PICHINCHA  Hombre  De 50 a 59 años   \n",
       "44        21/1/2021  ZONA 9  PICHINCHA  Hombre  De 25 a 49 años   \n",
       "...             ...     ...        ...     ...              ...   \n",
       "233759    30/6/2021  ZONA 9  PICHINCHA   Mujer  De 50 a 59 años   \n",
       "233760    30/6/2021  ZONA 9  PICHINCHA   Mujer  De 60 a 69 años   \n",
       "233761    30/6/2021  ZONA 9  PICHINCHA   Mujer  De 60 a 69 años   \n",
       "233762    30/6/2021  ZONA 9  PICHINCHA   Mujer  De 70 a 79 años   \n",
       "233763    30/6/2021  ZONA 9  PICHINCHA  Hombre  De 70 a 79 años   \n",
       "\n",
       "               nom_vacuna  primera  segunda  \n",
       "40        BNT162b2 PFIZER        1        0  \n",
       "41        BNT162b2 PFIZER        1        0  \n",
       "42        BNT162b2 PFIZER        1        0  \n",
       "43        BNT162b2 PFIZER        1        0  \n",
       "44        BNT162b2 PFIZER       51        0  \n",
       "...                   ...      ...      ...  \n",
       "233759  CoronaVac SINOVAC       22        4  \n",
       "233760    BNT162b2 PFIZER        2        1  \n",
       "233761  CoronaVac SINOVAC       10        2  \n",
       "233762  CoronaVac SINOVAC        1        0  \n",
       "233763  CoronaVac SINOVAC        1        0  \n",
       "\n",
       "[19190 rows x 8 columns]"
      ]
     },
     "execution_count": 15,
     "metadata": {},
     "output_type": "execute_result"
    }
   ],
   "source": [
    "#Filtro por provincias\n",
    "df_provincia = df.replace(np.nan, '', regex=True)\n",
    "df_provincia = df_provincia[ df_provincia['provincia'].str.contains('PICHINCHA') ]\n",
    "df_provincia  "
   ]
  },
  {
   "cell_type": "code",
   "execution_count": 16,
   "id": "0bc4d28f",
   "metadata": {},
   "outputs": [
    {
     "data": {
      "text/plain": [
       "(19190, 8)"
      ]
     },
     "execution_count": 16,
     "metadata": {},
     "output_type": "execute_result"
    }
   ],
   "source": [
    "df_provincia.shape "
   ]
  },
  {
   "cell_type": "code",
   "execution_count": 19,
   "id": "8ba9e311",
   "metadata": {},
   "outputs": [
    {
     "data": {
      "text/plain": [
       "(19190, 8)"
      ]
     },
     "execution_count": 19,
     "metadata": {},
     "output_type": "execute_result"
    }
   ],
   "source": [
    "df_provincia.shape "
   ]
  },
  {
   "cell_type": "code",
   "execution_count": null,
   "id": "e77e06a1",
   "metadata": {},
   "outputs": [],
   "source": []
  }
 ],
 "metadata": {
  "kernelspec": {
   "display_name": "Python 3 (ipykernel)",
   "language": "python",
   "name": "python3"
  },
  "language_info": {
   "codemirror_mode": {
    "name": "ipython",
    "version": 3
   },
   "file_extension": ".py",
   "mimetype": "text/x-python",
   "name": "python",
   "nbconvert_exporter": "python",
   "pygments_lexer": "ipython3",
   "version": "3.10.1"
  }
 },
 "nbformat": 4,
 "nbformat_minor": 5
}
